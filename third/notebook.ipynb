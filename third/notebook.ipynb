{
  "nbformat": 4,
  "nbformat_minor": 0,
  "metadata": {
    "kernelspec": {
      "display_name": "Python 3",
      "language": "python",
      "name": "python3"
    },
    "language_info": {
      "codemirror_mode": {
        "name": "ipython",
        "version": 3
      },
      "file_extension": ".py",
      "mimetype": "text/x-python",
      "name": "python",
      "nbconvert_exporter": "python",
      "pygments_lexer": "ipython3",
      "version": "3.8.5-final"
    },
    "colab": {
      "name": "Θέμα_3(03117043-03117160).ipynb",
      "provenance": [],
      "collapsed_sections": [],
      "toc_visible": true
    }
  },
  "cells": [
    {
      "cell_type": "markdown",
      "metadata": {
        "id": "9V7ub2pBPadf"
      },
      "source": [
        "# Τεχνητή Νοημοσύνη: Θέμα 3\n",
        "\n",
        "---\n",
        "Ζωγράφος Ορφέας  \n",
        "A.M.: 03117160\n",
        "\n",
        "Κωστόπουλος Κωνσταντίνος  \n",
        "A.M.: 03117043\n",
        "\n",
        "---"
      ]
    },
    {
      "cell_type": "markdown",
      "metadata": {
        "id": "aeBvZ__ZPadz"
      },
      "source": [
        "## Λύση"
      ]
    },
    {
      "cell_type": "markdown",
      "metadata": {
        "id": "h5uytQ1vPad0"
      },
      "source": [
        "### Μέρος 1: Αξιολόγηση ###  \n",
        "---"
      ]
    },
    {
      "cell_type": "code",
      "metadata": {
        "id": "Q8oTQMNZPad0"
      },
      "source": [
        "from sklearn.metrics import confusion_matrix, f1_score, precision_score, recall_score\n",
        "from matplotlib import pyplot as plt\n",
        "import numpy as np\n",
        "import random\n",
        "\n",
        "class Evaluate:\n",
        "    def __init__(self,y_true,y_pred,x):\n",
        "      self.y_true = y_true\n",
        "      self.y_pred = y_pred\n",
        "      self.x = x\n",
        "\n",
        "    def my_accuracy(self):\n",
        "      y_true = self.y_true\n",
        "      y_pred = self.y_pred\n",
        "      ##################\n",
        "      ## Your code below\n",
        "      true_len = len(y_true)\n",
        "      pred_len = len(y_pred)\n",
        "      assert true_len == pred_len, \"Number of predictions and facts should be equal\"\n",
        "      count_correct = 0\n",
        "      for i in range(pred_len):\n",
        "        if y_true[i] == y_pred[i]: count_correct = count_correct + 1\n",
        "      \n",
        "      acc = count_correct / true_len\n",
        "      ## Your code above\n",
        "      ##################\n",
        "      return acc\n",
        "\n",
        "    def get_metrics(self):\n",
        "        precision = precision_score(self.y_true, self.y_pred, average = \"macro\")\n",
        "        recall = recall_score(self.y_true, self.y_pred, average = \"macro\")\n",
        "        f1 = f1_score(self.y_true, self.y_pred, average = \"macro\")\n",
        "        results = {\"precision\" : precision, \"recall\": recall, \"f1\": f1,\"accuracy\":self.my_accuracy()}\n",
        "        return results   \n",
        "    \n",
        "    def confusion_matrix(self):\n",
        "        cm = confusion_matrix(self.y_true, self.y_pred)\n",
        "        return cm \n",
        "\n",
        "    def get_sample_of_wrong(self, rows = 5, lines = 4):\n",
        "        wrong_indexes = [index for index in range(len(self.y_true)) if self.y_true[index] != self.y_pred[index]]\n",
        "        plt.figure(figsize=(10, 10))\n",
        "\n",
        "        random.shuffle(wrong_indexes)\n",
        "        for i, index in enumerate(wrong_indexes[: rows*lines]):\n",
        "            plt.subplot(rows, lines, i + 1)\n",
        "            image = self.x[index]\n",
        "            plt.imshow(image.reshape((28, 28)))\n",
        "            plt.title(\"Real: {}, Pred: {}\".format(self.y_true[index], self.y_pred[index]))\n",
        "            plt.axis('off')\n",
        "\n",
        "    def get_evaluation_report(self):\n",
        "       metrics = self.get_metrics()\n",
        "       for m in metrics:\n",
        "         print(m+' : '+str(metrics[m]))\n",
        "       cm = self.confusion_matrix()\n",
        "       print(\"Confusion matrix: \")\n",
        "       print(cm)\n",
        "       print(\"Some images with wrong predictions\")\n",
        "       self.get_sample_of_wrong()"
      ],
      "execution_count": 1,
      "outputs": []
    },
    {
      "cell_type": "markdown",
      "metadata": {
        "id": "pvWu_KU8Pad2"
      },
      "source": [
        "Παράδειγμα χρήσης:"
      ]
    },
    {
      "cell_type": "code",
      "metadata": {
        "colab": {
          "base_uri": "https://localhost:8080/",
          "height": 294
        },
        "id": "mKwSK7Z6Pad2",
        "outputId": "b43fe14b-d9a0-43f2-b6d6-e959596c2cb7"
      },
      "source": [
        "y_true = [1,0,2,0,0,1,1,0]\n",
        "y_pred = [0,0,2,0,1,1,0,0]\n",
        "x = np.random.rand(8,28*28)\n",
        "\n",
        "eval = Evaluate(y_true,y_pred,x)\n",
        "eval.get_evaluation_report()"
      ],
      "execution_count": null,
      "outputs": [
        {
          "output_type": "stream",
          "text": [
            "precision : 0.7000000000000001\n",
            "recall : 0.6944444444444443\n",
            "f1 : 0.6888888888888888\n",
            "accuracy : 0.625\n",
            "Confusion matrix: \n",
            "[[3 1 0]\n",
            " [2 1 0]\n",
            " [0 0 1]]\n",
            "Some images with wrong predictions\n"
          ],
          "name": "stdout"
        },
        {
          "output_type": "display_data",
          "data": {
            "image/png": "[encoded data removed]",
            "text/plain": [
              "<Figure size 720x720 with 3 Axes>"
            ]
          },
          "metadata": {
            "tags": [],
            "needs_background": "light"
          }
        }
      ]
    },
    {
      "cell_type": "code",
      "metadata": {
        "id": "DRRAeyw8Pad3"
      },
      "source": [
        "import pandas as pd\n",
        "import numpy as np\n",
        "from matplotlib import pyplot as plt\n",
        "\n",
        "train_dset = pd.read_csv('/content/sample_data/mnist_train_small.csv',header=None)\n",
        "test_dset = pd.read_csv('/content/sample_data/mnist_test.csv',header=None)\n",
        "## From https://colab.research.google.com/notebooks/mlcc/multi-class_classification_of_handwritten_digits.ipynb#scrollTo=JfFWWvMWDFrR\n",
        "def parse_labels_and_features(dataset):\n",
        "  \"\"\"Extracts labels and features.\n",
        "  \n",
        "  This is a good place to scale or transform the features if needed.\n",
        "  \n",
        "  Args:\n",
        "    dataset: A Pandas `Dataframe`, containing the label on the first column and\n",
        "      monochrome pixel values on the remaining columns, in row major order.\n",
        "  Returns:\n",
        "    A `tuple` `(labels, features)`:\n",
        "      labels: A Pandas `Series`.\n",
        "      features: A Pandas `DataFrame`.\n",
        "  \"\"\"\n",
        "  labels = dataset[0]\n",
        "\n",
        "  # DataFrame.loc index ranges are inclusive at both ends.\n",
        "  features = dataset.loc[:,1:784]\n",
        "  # Scale the data to [0, 1] by dividing out the max value, 255.\n",
        "  features = features / 255\n",
        "\n",
        "  return labels, np.array(features)\n",
        "\n",
        "def show_image(features):\n",
        "  img = features.reshape((28,28))\n",
        "  plt.imshow(img)\n",
        "  plt.show()\n",
        "\n",
        "y_train,x_train = parse_labels_and_features(train_dset)\n",
        "y_test,x_test = parse_labels_and_features(test_dset)"
      ],
      "execution_count": 2,
      "outputs": []
    },
    {
      "cell_type": "markdown",
      "metadata": {
        "id": "SHxg634pPad4"
      },
      "source": [
        "Μορφή των δεδομένων:"
      ]
    },
    {
      "cell_type": "code",
      "metadata": {
        "colab": {
          "base_uri": "https://localhost:8080/"
        },
        "id": "K7_yc_2rPad5",
        "outputId": "bcc3b7b6-f367-4a8f-b06f-c5627e06f085"
      },
      "source": [
        "print(\"Shape of an image: \"+str(x_train[0].shape))\n",
        "print(\"Max value of pixel: \"+str(np.max(x_train[0])))"
      ],
      "execution_count": 3,
      "outputs": [
        {
          "output_type": "stream",
          "text": [
            "Shape of an image: (784,)\n",
            "Max value of pixel: 1.0\n"
          ],
          "name": "stdout"
        }
      ]
    },
    {
      "cell_type": "markdown",
      "metadata": {
        "id": "2HBwyspdPad5"
      },
      "source": [
        "Και μια εικόνα ως δείγμα:"
      ]
    },
    {
      "cell_type": "code",
      "metadata": {
        "colab": {
          "base_uri": "https://localhost:8080/",
          "height": 282
        },
        "id": "DvyhNHXFPad5",
        "outputId": "8a2accc8-39e5-4035-ff3c-bdcbeef93942"
      },
      "source": [
        "i = np.random.randint(0,x_train.shape[0])\n",
        "show_image(x_train[i])\n",
        "print(\"Label = \" +str(y_train[i]))"
      ],
      "execution_count": null,
      "outputs": [
        {
          "output_type": "display_data",
          "data": {
            "image/png": "[encoded data removed]",
            "text/plain": [
              "<Figure size 432x288 with 1 Axes>"
            ]
          },
          "metadata": {
            "tags": [],
            "needs_background": "light"
          }
        },
        {
          "output_type": "stream",
          "text": [
            "Label = 6\n"
          ],
          "name": "stdout"
        }
      ]
    },
    {
      "cell_type": "code",
      "metadata": {
        "colab": {
          "base_uri": "https://localhost:8080/"
        },
        "id": "Nw3XeZ29c_eo",
        "outputId": "42ddc705-cfc7-4bce-e2a6-06056a3acc40"
      },
      "source": [
        "len(x_train)"
      ],
      "execution_count": null,
      "outputs": [
        {
          "output_type": "execute_result",
          "data": {
            "text/plain": [
              "20000"
            ]
          },
          "metadata": {
            "tags": []
          },
          "execution_count": 50
        }
      ]
    },
    {
      "cell_type": "markdown",
      "metadata": {
        "id": "DjsuR0OSPad6"
      },
      "source": [
        "### Μέρος 2: Υλοποίηση ΚΝΝ ###  \n",
        "---"
      ]
    },
    {
      "cell_type": "code",
      "metadata": {
        "id": "KA6t_wdFPad6"
      },
      "source": [
        "## Simple KNN\n",
        "from numba import njit\n",
        "import numpy as np\n",
        "\n",
        "@njit\n",
        "def get_distance_fast(img1, img2, distance_type):\n",
        "  ## Compute the distance between the two vectors img1 and img2\n",
        "  temp1 = np.copy(img1)\n",
        "  temp2 = np.copy(img2)\n",
        "  if distance_type == 'euclidian':\n",
        "    dist = np.linalg.norm(temp1 - temp2)\n",
        "  elif distance_type == 'cosine':\n",
        "    dist = 1 - (np.dot(temp1,temp2)/ (np.linalg.norm(temp1) * np.linalg.norm(temp2)))\n",
        "  return dist\n",
        "\n",
        "@njit\n",
        "def get_knn_fast(img, x, k, distance_type):\n",
        "  ## Given an image as a vector, returns indexes of k nearest neighbors\n",
        "  temp = len(x)\n",
        "  distances = np.zeros(temp)\n",
        "  for i in range(temp):\n",
        "    distances[i] = get_distance_fast(img, x[i], distance_type)\n",
        "\n",
        "  ans_indexes = np.argsort(distances)[:k]\n",
        "  return ans_indexes\n",
        "\n",
        "@njit\n",
        "def classify_fast(img, y, x, k, distance_type):\n",
        "  ## Given an image as a vector, classify it according to KNN\n",
        "  knn_res = get_knn_fast(img,x,k,distance_type)\n",
        "  nn_labels = np.asarray([y[i] for i in knn_res], dtype=np.int64)\n",
        "\n",
        "  prediction = np.argmax(np.bincount(nn_labels))\n",
        "  return prediction\n",
        "\n",
        "class KNN:\n",
        "  def __init__(self,x,y,k,distance=\"euclidian\"):\n",
        "    self.x = x\n",
        "    self.y = y\n",
        "    self.k = k\n",
        "    self.distance = distance\n",
        "  \n",
        "  def classify(self,img):\n",
        "    return classify_fast(img, self.y.to_numpy(dtype=np.int64), self.x, self.k, self.distance)\n",
        "\n",
        "\n",
        "knn = KNN(x_train,y_train,k=5,distance='euclidian')"
      ],
      "execution_count": null,
      "outputs": []
    },
    {
      "cell_type": "code",
      "metadata": {
        "colab": {
          "base_uri": "https://localhost:8080/",
          "height": 298
        },
        "id": "7RyzqQ0KPad7",
        "outputId": "89d0c64d-c0fa-4f28-9d0e-ae4cf57edea8"
      },
      "source": [
        "img = x_test[np.random.randint(0,x_test.shape[0])]\n",
        "print(\"Input image: \")\n",
        "show_image(img)\n",
        "print('Prediction : '+str(knn.classify(img)))"
      ],
      "execution_count": null,
      "outputs": [
        {
          "output_type": "stream",
          "text": [
            "Input image: \n"
          ],
          "name": "stdout"
        },
        {
          "output_type": "display_data",
          "data": {
            "image/png": "[encoded data removed]",
            "text/plain": [
              "<Figure size 432x288 with 1 Axes>"
            ]
          },
          "metadata": {
            "tags": [],
            "needs_background": "light"
          }
        },
        {
          "output_type": "stream",
          "text": [
            "Prediction : 9\n"
          ],
          "name": "stdout"
        }
      ]
    },
    {
      "cell_type": "markdown",
      "metadata": {
        "id": "mA5J9s8BPad8"
      },
      "source": [
        "#### Αξιολόγηση του KNN"
      ]
    },
    {
      "cell_type": "code",
      "metadata": {
        "id": "cw4MDbh1Pad_"
      },
      "source": [
        "knn = KNN(x_train,y_train,k=5,distance='euclidian')\n",
        "preds = [knn.classify(x_test[i]) for i in range(100)]\n",
        "labels = [y_test[i] for i in range(100)]"
      ],
      "execution_count": null,
      "outputs": []
    },
    {
      "cell_type": "code",
      "metadata": {
        "colab": {
          "base_uri": "https://localhost:8080/",
          "height": 410
        },
        "id": "M6UKia_RPad_",
        "outputId": "ce2bfcba-5ca8-45e9-b7e3-526b5e9f2ae0"
      },
      "source": [
        "eval = Evaluate(labels,preds,x_test[:100])\n",
        "eval.get_evaluation_report()"
      ],
      "execution_count": null,
      "outputs": [
        {
          "output_type": "stream",
          "text": [
            "precision : 0.9749019607843138\n",
            "recall : 0.9568181818181818\n",
            "f1 : 0.962567733990148\n",
            "accuracy : 0.96\n",
            "Confusion matrix: \n",
            "[[ 8  0  0  0  0  0  0  0  0  0]\n",
            " [ 0 14  0  0  0  0  0  0  0  0]\n",
            " [ 0  1  6  0  0  0  0  1  0  0]\n",
            " [ 0  0  0 11  0  0  0  0  0  0]\n",
            " [ 0  0  0  0 14  0  0  0  0  0]\n",
            " [ 0  0  0  0  0  7  0  0  0  0]\n",
            " [ 0  0  0  0  0  0 10  0  0  0]\n",
            " [ 0  0  0  0  0  0  0 15  0  0]\n",
            " [ 0  0  0  0  0  0  0  0  2  0]\n",
            " [ 0  0  0  0  1  0  0  1  0  9]]\n",
            "Some images with wrong predictions\n"
          ],
          "name": "stdout"
        },
        {
          "output_type": "display_data",
          "data": {
            "image/png": "[encoded data removed]",
            "text/plain": [
              "<Figure size 720x720 with 4 Axes>"
            ]
          },
          "metadata": {
            "tags": [],
            "needs_background": "light"
          }
        }
      ]
    },
    {
      "cell_type": "markdown",
      "metadata": {
        "id": "t2q1JaQwPaeA"
      },
      "source": [
        "#### Έτοιμος KNN clasifier"
      ]
    },
    {
      "cell_type": "code",
      "metadata": {
        "colab": {
          "base_uri": "https://localhost:8080/",
          "height": 413
        },
        "id": "8AJl6bIiPaeA",
        "outputId": "0cbd7f78-1137-4df0-f1b5-cbb76174261c"
      },
      "source": [
        "from sklearn.neighbors import KNeighborsClassifier\n",
        "\n",
        "k = 5\n",
        "knc = KNeighborsClassifier(n_neighbors=k)\n",
        "knc.fit(x_train, y_train)\n",
        "y_pred = knc.predict(x_test[:100])\n",
        "\n",
        "eval = Evaluate(y_test[:100],y_pred,x_test[:100])\n",
        "eval.get_evaluation_report()"
      ],
      "execution_count": null,
      "outputs": [
        {
          "output_type": "stream",
          "text": [
            "precision : 0.9749019607843138\n",
            "recall : 0.9568181818181818\n",
            "f1 : 0.962567733990148\n",
            "accuracy : 0.96\n",
            "Confusion matrix: \n",
            "[[ 8  0  0  0  0  0  0  0  0  0]\n",
            " [ 0 14  0  0  0  0  0  0  0  0]\n",
            " [ 0  1  6  0  0  0  0  1  0  0]\n",
            " [ 0  0  0 11  0  0  0  0  0  0]\n",
            " [ 0  0  0  0 14  0  0  0  0  0]\n",
            " [ 0  0  0  0  0  7  0  0  0  0]\n",
            " [ 0  0  0  0  0  0 10  0  0  0]\n",
            " [ 0  0  0  0  0  0  0 15  0  0]\n",
            " [ 0  0  0  0  0  0  0  0  2  0]\n",
            " [ 0  0  0  0  1  0  0  1  0  9]]\n",
            "Some images with wrong predictions\n"
          ],
          "name": "stdout"
        },
        {
          "output_type": "display_data",
          "data": {
            "image/png": "[encoded data removed]",
            "text/plain": [
              "<Figure size 720x720 with 4 Axes>"
            ]
          },
          "metadata": {
            "tags": [],
            "needs_background": "light"
          }
        }
      ]
    },
    {
      "cell_type": "markdown",
      "metadata": {
        "id": "yRtO_ow4PaeB"
      },
      "source": [
        "#### Σύγκριση υλοποιήσεων"
      ]
    },
    {
      "cell_type": "markdown",
      "metadata": {
        "id": "3GASCGDnjgoF"
      },
      "source": [
        "##### Χρόνος"
      ]
    },
    {
      "cell_type": "code",
      "metadata": {
        "colab": {
          "base_uri": "https://localhost:8080/"
        },
        "id": "Ns9LBmiGPaeB",
        "outputId": "02d94e68-fce3-469b-9f1c-11a68eddc829"
      },
      "source": [
        "%%time\n",
        "knn = KNN(x_train,y_train,k=5,distance='euclidian')\n",
        "preds = [knn.classify(x_test[i]) for i in range(100)]"
      ],
      "execution_count": null,
      "outputs": [
        {
          "output_type": "stream",
          "text": [
            "CPU times: user 9.67 s, sys: 8.94 ms, total: 9.68 s\n",
            "Wall time: 9.75 s\n"
          ],
          "name": "stdout"
        }
      ]
    },
    {
      "cell_type": "code",
      "metadata": {
        "colab": {
          "base_uri": "https://localhost:8080/"
        },
        "id": "MIbPI4k6PaeC",
        "outputId": "18a63ee9-c755-47eb-94cf-04c9d11db6cb"
      },
      "source": [
        "%%time\n",
        "knc = KNeighborsClassifier(n_neighbors=5)\n",
        "knc.fit(x_train, y_train)\n",
        "y_pred = knc.predict(x_test[:100])"
      ],
      "execution_count": null,
      "outputs": [
        {
          "output_type": "stream",
          "text": [
            "CPU times: user 6.66 s, sys: 11.9 ms, total: 6.67 s\n",
            "Wall time: 6.72 s\n"
          ],
          "name": "stdout"
        }
      ]
    },
    {
      "cell_type": "markdown",
      "metadata": {
        "id": "J3rcJo26r435"
      },
      "source": [
        "##### Απόδοση"
      ]
    },
    {
      "cell_type": "code",
      "metadata": {
        "colab": {
          "base_uri": "https://localhost:8080/"
        },
        "id": "PKhkikrxj-GH",
        "outputId": "02a95155-2551-44fa-9c90-79fbdc1c61a3"
      },
      "source": [
        "def test_k_vals(distance_metric):\r\n",
        "  results = {}\r\n",
        "  for k_val in range(1,10):\r\n",
        "    knn = KNN(x_train,y_train,k=k_val,distance=distance_metric)\r\n",
        "    preds = [knn.classify(x_test[i]) for i in range(200)]\r\n",
        "    labels = [y_test[i] for i in range(200)]\r\n",
        "    eval = Evaluate(labels,preds,x_test[:200])\r\n",
        "    results[k_val] = eval.get_metrics()\r\n",
        "  return results\r\n",
        "temp = test_k_vals('euclidian')\r\n",
        "for i in temp: print(i, \"->\", temp[i])\r\n",
        "print(\"----\")\r\n",
        "temp = test_k_vals('cosine')\r\n",
        "for i in temp: print(i, \"->\", temp[i])"
      ],
      "execution_count": null,
      "outputs": [
        {
          "output_type": "stream",
          "text": [
            "1 -> {'precision': 0.9789952065814134, 'recall': 0.9755952380952382, 'f1': 0.9769236871010261, 'accuracy': 0.975}\n",
            "2 -> {'precision': 0.9543299621525426, 'recall': 0.9428571428571428, 'f1': 0.9469351891011122, 'accuracy': 0.95}\n",
            "3 -> {'precision': 0.9756620920309077, 'recall': 0.9720238095238095, 'f1': 0.9732548683070148, 'accuracy': 0.97}\n",
            "4 -> {'precision': 0.9708195970695972, 'recall': 0.9581547619047619, 'f1': 0.9634833978343671, 'accuracy': 0.965}\n",
            "5 -> {'precision': 0.9708195970695972, 'recall': 0.9581547619047619, 'f1': 0.9634833978343671, 'accuracy': 0.965}\n",
            "6 -> {'precision': 0.9712362637362638, 'recall': 0.9556547619047621, 'f1': 0.9609333108538458, 'accuracy': 0.96}\n",
            "7 -> {'precision': 0.9704090909090908, 'recall': 0.95625, 'f1': 0.960904437612186, 'accuracy': 0.96}\n",
            "8 -> {'precision': 0.9682770562770562, 'recall': 0.9514880952380953, 'f1': 0.9572808072294453, 'accuracy': 0.955}\n",
            "9 -> {'precision': 0.9605620509073194, 'recall': 0.943154761904762, 'f1': 0.9490775239402556, 'accuracy': 0.945}\n",
            "----\n",
            "1 -> {'precision': 0.9954545454545455, 'recall': 0.9964285714285716, 'f1': 0.9958562367864694, 'accuracy': 0.995}\n",
            "2 -> {'precision': 0.951596689492494, 'recall': 0.9552380952380952, 'f1': 0.9524210294125492, 'accuracy': 0.955}\n",
            "3 -> {'precision': 0.9805916305916306, 'recall': 0.9845238095238095, 'f1': 0.9820667112080761, 'accuracy': 0.98}\n",
            "4 -> {'precision': 0.9663888806984783, 'recall': 0.9685714285714286, 'f1': 0.967035310798377, 'accuracy': 0.97}\n",
            "5 -> {'precision': 0.9805916305916306, 'recall': 0.9880952380952381, 'f1': 0.9839153439153439, 'accuracy': 0.985}\n",
            "6 -> {'precision': 0.9763535353535353, 'recall': 0.9833333333333334, 'f1': 0.9793193591799862, 'accuracy': 0.98}\n",
            "7 -> {'precision': 0.97245670995671, 'recall': 0.9791666666666667, 'f1': 0.9754048909536716, 'accuracy': 0.975}\n",
            "8 -> {'precision': 0.9716630591630592, 'recall': 0.9791666666666667, 'f1': 0.9749867724867725, 'accuracy': 0.975}\n",
            "9 -> {'precision': 0.97245670995671, 'recall': 0.9791666666666667, 'f1': 0.9754048909536716, 'accuracy': 0.975}\n"
          ],
          "name": "stdout"
        }
      ]
    },
    {
      "cell_type": "markdown",
      "metadata": {
        "id": "PpTnBJveg_r3"
      },
      "source": [
        "##### Σχολιασμός\r\n",
        "\r\n",
        "* Παρόλο που με χρήση της βιβιλιοθήκης ` numba ` καταφέραμε να μειώσουμε αρκετά το running time (πράγμα που επαληθεύτηκε και μέσω δοκιμών) η υλοποίηση της βιβλιοθήκης ` sklearn ` συνεχίζει να είναι αισθητά πιό γρήγορη. \r\n",
        "* Πιθανή βελτιστοποίηση της χρονικής απόδοσης θα ήταν στον υπολογισμό της Ευκλίδειας απόστασης να μην υπολογίζουμε τη ρίζα του αθροίσματος των τετραγώνων των διαφορών αφού η διάταξη των αποστάσεων συντηρείται.\r\n",
        "* Ωστόσο ως προς τις απαντήσεις, η επίδοση της έτοιμης υλοποίησης και της δικιάς μας σε όλες τις δοκιμές που κάναμε είναι ίδια.\r\n",
        "* Παρατηρούμε ακόμη ότι όσον αφορά την `'cosine'` απόσταση η δομή του dataset ή/και του προβλήματος οδηγεί σε καλύτερο αποτέλεσμα για μικρότερη τιμή του `k`"
      ]
    },
    {
      "cell_type": "markdown",
      "metadata": {
        "id": "inrWJziRg4VM"
      },
      "source": [
        "### Μέρος 3: Naive Bayes ###  \r\n",
        "---"
      ]
    },
    {
      "cell_type": "code",
      "metadata": {
        "colab": {
          "base_uri": "https://localhost:8080/",
          "height": 265
        },
        "id": "jmdaOCKCreIH",
        "outputId": "0eeec5cf-335d-404c-ac82-d3cd5804490a"
      },
      "source": [
        "## Στρογγυλοποίηση:\r\n",
        "x_train_r = np.round(x_train)\r\n",
        "x_test_r = np.round(x_test)\r\n",
        "show_image(x_test_r[0])"
      ],
      "execution_count": null,
      "outputs": [
        {
          "output_type": "display_data",
          "data": {
            "image/png": "[encoded data removed]",
            "text/plain": [
              "<Figure size 432x288 with 1 Axes>"
            ]
          },
          "metadata": {
            "tags": [],
            "needs_background": "light"
          }
        }
      ]
    },
    {
      "cell_type": "code",
      "metadata": {
        "id": "Xf-vtbBVrcFy"
      },
      "source": [
        "@njit\r\n",
        "def comp_prob_fast(x, y, pC, pxC):\r\n",
        "  for label in y:\r\n",
        "    pC[label] += 1\r\n",
        "  pC = pC/y.shape[0]\r\n",
        "\r\n",
        "  for pixel in range(x.shape[-1]):\r\n",
        "    for i in range(len(y)):\r\n",
        "      pxC[pixel][y[i]] += x[i][pixel]\r\n",
        "  \r\n",
        "  for i in range(10):\r\n",
        "    for pixel in range(x.shape[-1]):\r\n",
        "      pxC[pixel][i] /= pC[i] * y.shape[0]\r\n",
        "  return pxC\r\n",
        "\r\n",
        "@njit\r\n",
        "def predict_fast(x, pxC, pC,):\r\n",
        "  pcX = np.ones((10,))\r\n",
        "  for i in range(10):\r\n",
        "    pcX[i] = pC[i]\r\n",
        "    for pixel in range(x.shape[-1]):\r\n",
        "      if x[pixel] == 1.:\r\n",
        "        pcX[i] *= pxC[pixel][i]\r\n",
        "      elif x[pixel] == 0.:\r\n",
        "        pcX[i] *= 1 - pxC[pixel][i]\r\n",
        "  return np.argmax(pcX)\r\n",
        "\r\n",
        "class NaiveBayes:\r\n",
        "  def __init__(self,x,y):\r\n",
        "    self.x = x\r\n",
        "    self.y = y\r\n",
        "    ## pC is a vector with the probability of each class\r\n",
        "    self.pC = np.zeros((10,))\r\n",
        "    ## pxC is an array with all probabilities p(xi|C)\r\n",
        "    self.pxC = np.zeros((x.shape[-1],10))\r\n",
        "    ## Compute the probabilities\r\n",
        "    self.compute_probabilities()\r\n",
        "\r\n",
        "  def compute_probabilities(self):\r\n",
        "    ## Compute p(C) for each class    \r\n",
        "    self.pxC = comp_prob_fast(self.x, self.y.to_numpy(dtype=np.int64), self.pC, self.pxC)\r\n",
        "\r\n",
        "  def predict(self,x):\r\n",
        "    ## ~Probability of x belonging to each class\r\n",
        "    return predict_fast(x, self.pxC, self.pC)"
      ],
      "execution_count": null,
      "outputs": []
    },
    {
      "cell_type": "markdown",
      "metadata": {
        "id": "MCdVIm1A-Iex"
      },
      "source": [
        "#### Αξιολόγηση του Naive Bayes"
      ]
    },
    {
      "cell_type": "code",
      "metadata": {
        "colab": {
          "base_uri": "https://localhost:8080/",
          "height": 747
        },
        "id": "NKY8JGAr5jeM",
        "outputId": "3ec56c32-df9b-4f2d-d5b2-875f549f63eb"
      },
      "source": [
        "nb = NaiveBayes(x_train_r,y_train)\r\n",
        "preds = [ nb.predict(i) for i in x_test_r[:100]]\r\n",
        "eval = Evaluate(y_test[:100], preds, x_test_r[:100])\r\n",
        "eval.get_evaluation_report()"
      ],
      "execution_count": null,
      "outputs": [
        {
          "output_type": "stream",
          "text": [
            "precision : 0.8400974025974026\n",
            "recall : 0.850108225108225\n",
            "f1 : 0.8261529454950507\n",
            "accuracy : 0.85\n",
            "Confusion matrix: \n",
            "[[ 7  0  0  0  0  0  0  0  1  0]\n",
            " [ 0 13  0  1  0  0  0  0  0  0]\n",
            " [ 0  0  7  1  0  0  0  0  0  0]\n",
            " [ 0  0  1 10  0  0  0  0  0  0]\n",
            " [ 1  0  0  0 12  0  0  0  0  1]\n",
            " [ 0  0  0  2  1  4  0  0  0  0]\n",
            " [ 0  0  2  0  0  0  8  0  0  0]\n",
            " [ 0  0  1  0  0  0  0 13  0  1]\n",
            " [ 0  0  0  0  0  0  0  0  2  0]\n",
            " [ 0  0  0  0  1  0  0  0  1  9]]\n",
            "Some images with wrong predictions\n"
          ],
          "name": "stdout"
        },
        {
          "output_type": "display_data",
          "data": {
            "image/png": "[encoded data removed]",
            "text/plain": [
              "<Figure size 720x720 with 15 Axes>"
            ]
          },
          "metadata": {
            "tags": [],
            "needs_background": "light"
          }
        }
      ]
    },
    {
      "cell_type": "markdown",
      "metadata": {
        "id": "7LHKQ7Ma-OQd"
      },
      "source": [
        "#### Έτοιμος Naive Bayes"
      ]
    },
    {
      "cell_type": "code",
      "metadata": {
        "colab": {
          "base_uri": "https://localhost:8080/",
          "height": 914
        },
        "id": "pDAuWJMN9yGc",
        "outputId": "dbb25426-f678-48cf-9a68-b844f2d29c38"
      },
      "source": [
        "from sklearn.naive_bayes import GaussianNB\r\n",
        "\r\n",
        "gnb = GaussianNB()\r\n",
        "y_pred = gnb.fit(x_train, y_train).predict(x_test[:100])\r\n",
        "\r\n",
        "eval = Evaluate(y_test[:100], y_pred, x_test[:100])\r\n",
        "eval.get_evaluation_report()"
      ],
      "execution_count": null,
      "outputs": [
        {
          "output_type": "stream",
          "text": [
            "/usr/local/lib/python3.6/dist-packages/sklearn/metrics/_classification.py:1272: UndefinedMetricWarning: Precision is ill-defined and being set to 0.0 in labels with no predicted samples. Use `zero_division` parameter to control this behavior.\n",
            "  _warn_prf(average, modifier, msg_start, len(result))\n"
          ],
          "name": "stderr"
        },
        {
          "output_type": "stream",
          "text": [
            "precision : 0.5992985558502799\n",
            "recall : 0.5716774891774892\n",
            "f1 : 0.5081873844349185\n",
            "accuracy : 0.6\n",
            "Confusion matrix: \n",
            "[[ 7  0  0  0  0  0  0  0  0  1]\n",
            " [ 0 14  0  0  0  0  0  0  0  0]\n",
            " [ 3  0  2  0  0  0  2  0  0  1]\n",
            " [ 0  0  1  3  0  0  1  0  5  1]\n",
            " [ 1  1  0  0  4  0  0  0  0  8]\n",
            " [ 2  0  0  0  1  0  0  0  3  1]\n",
            " [ 0  0  0  0  0  0 10  0  0  0]\n",
            " [ 0  0  1  0  0  0  0  8  0  6]\n",
            " [ 1  0  0  0  0  0  0  0  1  0]\n",
            " [ 0  0  0  0  0  0  0  0  0 11]]\n",
            "Some images with wrong predictions\n"
          ],
          "name": "stdout"
        },
        {
          "output_type": "display_data",
          "data": {
            "image/png": "[encoded data removed]",
            "text/plain": [
              "<Figure size 720x720 with 20 Axes>"
            ]
          },
          "metadata": {
            "tags": [],
            "needs_background": "light"
          }
        }
      ]
    },
    {
      "cell_type": "markdown",
      "metadata": {
        "id": "GoYZpH7z-VMy"
      },
      "source": [
        "#### Σύγκριση υλοποιήσεων"
      ]
    },
    {
      "cell_type": "markdown",
      "metadata": {
        "id": "aflVKXQ1G0OA"
      },
      "source": [
        "##### Χρόνος"
      ]
    },
    {
      "cell_type": "code",
      "metadata": {
        "colab": {
          "base_uri": "https://localhost:8080/"
        },
        "id": "xM2clMOr-Y4-",
        "outputId": "74b46ba5-84d8-421d-9978-d6757a70ced2"
      },
      "source": [
        "%%time\r\n",
        "nb = NaiveBayes(x_train_r,y_train)\r\n",
        "preds = [ nb.predict(i) for i in x_test_r]"
      ],
      "execution_count": null,
      "outputs": [
        {
          "output_type": "stream",
          "text": [
            "CPU times: user 274 ms, sys: 0 ns, total: 274 ms\n",
            "Wall time: 285 ms\n"
          ],
          "name": "stdout"
        }
      ]
    },
    {
      "cell_type": "code",
      "metadata": {
        "colab": {
          "base_uri": "https://localhost:8080/"
        },
        "id": "2dJU44ou-ayl",
        "outputId": "8b38d997-8bf3-4cc4-d4c6-076b607477ad"
      },
      "source": [
        "%%time\r\n",
        "gnb = GaussianNB()\r\n",
        "y_pred = gnb.fit(x_train, y_train).predict(x_test)"
      ],
      "execution_count": null,
      "outputs": [
        {
          "output_type": "stream",
          "text": [
            "CPU times: user 737 ms, sys: 2.99 ms, total: 740 ms\n",
            "Wall time: 742 ms\n"
          ],
          "name": "stdout"
        }
      ]
    },
    {
      "cell_type": "markdown",
      "metadata": {
        "id": "7uNrUyeeG4wJ"
      },
      "source": [
        "##### Απόδοση"
      ]
    },
    {
      "cell_type": "code",
      "metadata": {
        "colab": {
          "base_uri": "https://localhost:8080/"
        },
        "id": "pomCrvYBMqIK",
        "outputId": "6c43c04f-e2ac-4554-e841-07aa8b1d56ad"
      },
      "source": [
        "from sklearn.naive_bayes import GaussianNB\r\n",
        "\r\n",
        "print(\"Δικιά μας υλοποίηση:\")\r\n",
        "nb = NaiveBayes(x_train_r,y_train)\r\n",
        "preds = [ nb.predict(i) for i in x_test_r]\r\n",
        "eval = Evaluate(y_test, preds, x_test_r)\r\n",
        "print(eval.get_metrics())\r\n",
        "\r\n",
        "print(\"---\")\r\n",
        "print(\"Έτοιμη υλοποίηση:\")\r\n",
        "gnb = GaussianNB()\r\n",
        "y_pred = gnb.fit(x_train, y_train).predict(x_test)\r\n",
        "\r\n",
        "eval = Evaluate(y_test, y_pred, x_test)\r\n",
        "print(eval.get_metrics())"
      ],
      "execution_count": null,
      "outputs": [
        {
          "output_type": "stream",
          "text": [
            "Δικιά μας υλοποίηση:\n",
            "{'precision': 0.8420769694261152, 'recall': 0.8386732815442702, 'f1': 0.839392796785908, 'accuracy': 0.8411}\n",
            "---\n",
            "Έτοιμη υλοποίηση:\n",
            "{'precision': 0.6786218997566938, 'recall': 0.5528163449706252, 'f1': 0.5175091463233913, 'accuracy': 0.5602}\n"
          ],
          "name": "stdout"
        }
      ]
    },
    {
      "cell_type": "markdown",
      "metadata": {
        "id": "MFdF_N27G7_m"
      },
      "source": [
        "##### Σχολιασμός\r\n",
        "Η υλοποίησή μας έγινε υπό την υπόθεση της δεσμευμένης ανεξαρτησίας.\r\n",
        "\r\n",
        "* Εδώ με χρήση της βιβλιοθήκης `numba` η βελτίωση χρονικά ήταν ιδιαίτερα αισθητή και οδήγησε μάλιστα σε γρηγορότερη εκτέλεση από την ήδη υπάρχουσα υλοποίηση (παρόλο που δε μπορούμε να κάνουμε 1 προς 1 σύγκριση αφού έγιναν διαφορετικές παραδοχές μεταξύ των υλοποιήσεων)\r\n",
        "* Ακόμη η δική μας υλοποίηση αποδίδει καλύτερα και όσον αφορά τις μετρικές απόδοσης που χρησιμοποιούμε (που ίσως συνεπάγεται ότι η παραδοχή κανονικής κατανομής της υπάρχουσας είναι πιό άστοχη από αυτή της δεσμευμένης ανεξαρτησίας, τουλάχιστον για το συγκεκριμένο dataset και ίσως γενικότερα για το πρόβλημα)\r\n",
        "* Παρόλα αυτά αξίζει να σημειωθεί ότι η συγκεκριμένη μέθοδος ταξινόμισης είναι αισθητά πιό γρήγορη (αρκετά για να επιτρέψει τη δοκιμή των ταξινομητών σε ολόκληρο το test_set) και η απόδοσή της είναι αποδεκτά χειρότερη, ειδικά αν λάβουμε υπόψιν ότι με κάποια καλύτερη παραδοχή ίσως να μπορούσαμε να πετύχουμε ακόμα καλύτερα αποτελέσματα"
      ]
    },
    {
      "cell_type": "markdown",
      "metadata": {
        "id": "kJG4Nk_7RLga"
      },
      "source": [
        "### Μέρος 4: Multi-Layer Perceptron ###  \r\n",
        "---"
      ]
    },
    {
      "cell_type": "markdown",
      "metadata": {
        "id": "Wk-vDId4fnX3"
      },
      "source": [
        "Layer Interface"
      ]
    },
    {
      "cell_type": "code",
      "metadata": {
        "id": "iDx1wyKCVjO6"
      },
      "source": [
        "from numba import njit\r\n",
        "class Layer:\r\n",
        "    def __init__(self):\r\n",
        "        \"\"\"Here we can initialize layer parameters (if any) and auxiliary stuff.\"\"\"\r\n",
        "        # A dummy layer does nothing\r\n",
        "        pass\r\n",
        "    \r\n",
        "    def forward(self, input):\r\n",
        "        \"\"\"\r\n",
        "        Takes input data of shape [batch, input_units], returns output data [batch, output_units]\r\n",
        "        \"\"\"\r\n",
        "        # A dummy layer just returns whatever it gets as input.\r\n",
        "        return input\r\n",
        "\r\n",
        "    def backward(self, input, grad_output):\r\n",
        "        # The gradient of a dummy layer is precisely grad_output, but we'll write it more explicitly\r\n",
        "        num_units = input.shape[1]\r\n",
        "        \r\n",
        "        d_layer_d_input = np.eye(num_units)\r\n",
        "        \r\n",
        "        return np.dot(grad_output, d_layer_d_input) # chain rule"
      ],
      "execution_count": 5,
      "outputs": []
    },
    {
      "cell_type": "markdown",
      "metadata": {
        "id": "C1ePSr6YftaG"
      },
      "source": [
        "ReLu Layer implementation"
      ]
    },
    {
      "cell_type": "code",
      "metadata": {
        "id": "-WdeBSyQVmLO"
      },
      "source": [
        "class ReLU(Layer):\r\n",
        "    def __init__(self):\r\n",
        "        \"\"\"ReLU layer simply applies elementwise rectified linear unit to all inputs\"\"\"\r\n",
        "        pass\r\n",
        "    \r\n",
        "    def forward(self, input):\r\n",
        "        \"\"\"Apply elementwise ReLU to [batch, input_units] matrix\"\"\"\r\n",
        "        relu_forward = np.maximum(0,input)\r\n",
        "        return relu_forward\r\n",
        "    \r\n",
        "    def backward(self, input, grad_output):\r\n",
        "        \"\"\"Compute gradient of loss w.r.t. ReLU input\"\"\"\r\n",
        "        relu_grad = input > 0\r\n",
        "        return grad_output*relu_grad"
      ],
      "execution_count": 6,
      "outputs": []
    },
    {
      "cell_type": "markdown",
      "metadata": {
        "id": "BKRAZ-r8lJkU"
      },
      "source": [
        "Softmax "
      ]
    },
    {
      "cell_type": "code",
      "metadata": {
        "id": "VVGsZVQpfk5a"
      },
      "source": [
        "# @njit\r\n",
        "def softmax_crossentropy_with_logits(logits,reference_answers):\r\n",
        "    \"\"\"Compute crossentropy from logits[batch,n_classes] and ids of correct answers\"\"\"\r\n",
        "    logits_for_answers = logits[np.arange(len(logits)),reference_answers]\r\n",
        "    xentropy = - logits_for_answers + np.log(np.sum(np.exp(logits),axis=-1))\r\n",
        "    return xentropy\r\n",
        "\r\n",
        "# @njit\r\n",
        "def grad_softmax_crossentropy_with_logits(logits,reference_answers):\r\n",
        "    \"\"\"Compute crossentropy gradient from logits[batch,n_classes] and ids of correct answers\"\"\"\r\n",
        "    ones_for_answers = np.zeros_like(logits)\r\n",
        "    ones_for_answers[np.arange(len(logits)),reference_answers] = 1\r\n",
        "    \r\n",
        "    softmax = np.exp(logits) / np.exp(logits).sum(axis=-1,keepdims=True)\r\n",
        "    \r\n",
        "    return (- ones_for_answers + softmax) / logits.shape[0]"
      ],
      "execution_count": 7,
      "outputs": []
    },
    {
      "cell_type": "markdown",
      "metadata": {
        "id": "zr4IAI_9fvzu"
      },
      "source": [
        "Dense Layer Implementation"
      ]
    },
    {
      "cell_type": "code",
      "metadata": {
        "id": "wwG2NEQ-Vn1e"
      },
      "source": [
        "@njit\r\n",
        "def dense_forward_fast(input, weights, biases, output_units):\r\n",
        "  return np.dot(input,weights) + biases\r\n",
        "\r\n",
        "# @njit\r\n",
        "# def dense_backward_fast(input, grad_output, weights, biases, learning_rate, grad_biases):\r\n",
        "#   grad_input = np.dot(grad_output, weights.T)\r\n",
        "#   grad_weights = np.dot(input.T, grad_output)\r\n",
        "\r\n",
        "#   assert grad_weights.shape == weights.shape and grad_biases.shape == biases.shape\r\n",
        "#   ret_weights = weights - learning_rate * grad_weights\r\n",
        "#   ret_biases = biases - learning_rate *grad_biases\r\n",
        "#   return grad_input, ret_weights, ret_biases\r\n",
        "\r\n",
        "class Dense(Layer):\r\n",
        "    def __init__(self, input_units, output_units, learning_rate=0.15):\r\n",
        "        \"\"\"\r\n",
        "        Weight Initialization\r\n",
        "        \"\"\"\r\n",
        "        self.input_units = input_units\r\n",
        "        self.output_units = output_units\r\n",
        "        \r\n",
        "        self.learning_rate = learning_rate\r\n",
        "        self.weights = np.random.normal(loc=0.0, \r\n",
        "                                        scale = np.sqrt(2/(input_units+output_units)), \r\n",
        "                                        size = (input_units,output_units))\r\n",
        "        self.biases = np.zeros(output_units)\r\n",
        "        \r\n",
        "    def forward(self,input):\r\n",
        "        \"\"\"\r\n",
        "        Perform an affine transformation:\r\n",
        "        f(x) = <W*x> + b\r\n",
        "        \r\n",
        "        input shape: [number of inputs, input units]\r\n",
        "        output shape: [number of inputs, output units]\r\n",
        "        \"\"\"\r\n",
        "        return dense_forward_fast(input,self.weights,self.biases,self.output_units)\r\n",
        "    \r\n",
        "    def backward(self,input,grad_output):\r\n",
        "        # grad_biases = grad_output.mean(axis=0)*input.shape[0]\r\n",
        "        # grad_input, self.weights, self.biases = dense_backward_fast(input, grad_output, self.weights, self.biases, self.learning_rate, grad_biases)\r\n",
        "        #######################\r\n",
        "        grad_input = np.dot(grad_output, self.weights.T)\r\n",
        "\r\n",
        "        # compute gradient w.r.t. weights and biases\r\n",
        "        grad_weights = np.dot(input.T, grad_output)\r\n",
        "        grad_biases = grad_output.mean(axis=0)*input.shape[0]\r\n",
        "\r\n",
        "        assert grad_weights.shape == self.weights.shape and grad_biases.shape == self.biases.shape\r\n",
        "\r\n",
        "        # Here we perform a stochastic gradient descent step. \r\n",
        "        self.weights = self.weights - self.learning_rate * grad_weights\r\n",
        "        self.biases = self.biases - self.learning_rate * grad_biases\r\n",
        "        return grad_input"
      ],
      "execution_count": 18,
      "outputs": []
    },
    {
      "cell_type": "markdown",
      "metadata": {
        "id": "wM4abt5MlnPC"
      },
      "source": [
        "Multi-layered perceptron"
      ]
    },
    {
      "cell_type": "code",
      "metadata": {
        "id": "b5T1oljjlkrz"
      },
      "source": [
        "class MLP:\r\n",
        "    def __init__(self, shapes, input_dim):\r\n",
        "        '''\r\n",
        "        Κατασκευή του MLP. Τα επίπεδα και το μέγεθός τους ορίζεται από την μεταβλήτη shape, ενώ\r\n",
        "        το μέγεθος της εισόδου ορίζεται από την μεταβλήτη input_dim\r\n",
        "        '''\r\n",
        "        self.shapes = shapes\r\n",
        "        self.network = [Dense(input_dim, shapes[0])]\r\n",
        "        self.network.append(ReLU())\r\n",
        "        for i in range(1, len(self.shapes) - 1):\r\n",
        "            self.network.append(Dense(shapes[i-1],shapes[i]))\r\n",
        "            self.network.append(ReLU())\r\n",
        "        self.network.append(Dense(shapes[i],shapes[-1]))\r\n",
        "\r\n",
        "    def forward(self, X):\r\n",
        "        \"\"\"\r\n",
        "        Αγόριθμος διφάνειας 33\r\n",
        "        \"\"\"\r\n",
        "        activations = []\r\n",
        "        input = X\r\n",
        "        # Looping through each layer\r\n",
        "        for l in self.network:\r\n",
        "            ###################\r\n",
        "            ## Your code below\r\n",
        "            # hint: τροφοδοτούμε την έξοδο κάθε επιπέδου στο επόμενο\r\n",
        "            \r\n",
        "            input = l.forward(input)\r\n",
        "            activations.append(input)\r\n",
        "            ## Your code above\r\n",
        "            ##################        \r\n",
        "        assert len(activations) == len(self.network)\r\n",
        "        return activations\r\n",
        "\r\n",
        "    def predict(self,X):\r\n",
        "        \"\"\"\r\n",
        "        Προβλέπει την έξοδο του δικτύου για ένα ή περισσότερα στιγμιότυπα εισόδου\r\n",
        "        \"\"\"\r\n",
        "        logits = self.forward(X)[-1]\r\n",
        "        return logits.argmax(axis=-1)\r\n",
        "\r\n",
        "    def fit(self, X, y):\r\n",
        "        # Get the layer activations\r\n",
        "        layer_activations = self.forward(X)\r\n",
        "        layer_inputs = [X]+layer_activations  #layer_input[i] is an input for network[i]\r\n",
        "        logits = layer_activations[-1]\r\n",
        "        \r\n",
        "        # Compute the loss and the initial gradient\r\n",
        "        loss = softmax_crossentropy_with_logits(logits,y)\r\n",
        "        loss_grad = grad_softmax_crossentropy_with_logits(logits,y)\r\n",
        "        \r\n",
        "        # Propagate gradients through the network\r\n",
        "        # Reverse propogation as this is backprop\r\n",
        "        for layer_index in range(len(self.network))[::-1]:\r\n",
        "            layer = self.network[layer_index]\r\n",
        "            loss_grad = layer.backward(layer_inputs[layer_index],loss_grad) #grad w.r.t. input, also weight updates\r\n",
        "        return np.mean(loss)"
      ],
      "execution_count": 9,
      "outputs": []
    },
    {
      "cell_type": "markdown",
      "metadata": {
        "id": "l96KDn5-gpGm"
      },
      "source": [
        "#### Αξιολόγηση ενός Multi-Layer Perceptron"
      ]
    },
    {
      "cell_type": "code",
      "metadata": {
        "colab": {
          "base_uri": "https://localhost:8080/",
          "height": 1000
        },
        "id": "sgu-69nWrx5M",
        "outputId": "c0b609c0-3194-4a4d-ea7c-d25f483404a9"
      },
      "source": [
        "from IPython.display import clear_output\r\n",
        "import numpy as np\r\n",
        "\r\n",
        "network = MLP([100, 200, 100, 10], 28*28)\r\n",
        "\r\n",
        "train_log = []\r\n",
        "val_log = []\r\n",
        "\r\n",
        "#Αυτά πρέπει να τρέχουν αφού έχετε φτιάξει σωστά τον κώδικα της MLP\r\n",
        "for epoch in range(25):\r\n",
        "    network.fit(x_train,y_train)\r\n",
        "    \r\n",
        "    train_log.append(np.mean(network.predict(x_train)==y_train))\r\n",
        "    val_log.append(np.mean(network.predict(x_test)==y_test))\r\n",
        "    \r\n",
        "    clear_output()\r\n",
        "    print(\"Epoch\",epoch)\r\n",
        "    print(\"Train accuracy:\",train_log[-1])\r\n",
        "    print(\"Val accuracy:\",val_log[-1])\r\n",
        "    plt.plot(train_log,label='train accuracy')\r\n",
        "    plt.plot(val_log,label='val accuracy')\r\n",
        "    plt.legend(loc='best')\r\n",
        "    plt.grid()\r\n",
        "    plt.show()\r\n",
        "\r\n",
        "y_pred = network.predict(x_test)\r\n",
        "\r\n",
        "eval = Evaluate(y_test, y_pred, x_test)\r\n",
        "eval.get_evaluation_report()"
      ],
      "execution_count": 19,
      "outputs": [
        {
          "output_type": "stream",
          "text": [
            "Epoch 24\n",
            "Train accuracy: 0.7775\n",
            "Val accuracy: 0.7803\n"
          ],
          "name": "stdout"
        },
        {
          "output_type": "display_data",
          "data": {
            "image/png": "[encoded data removed]",
            "text/plain": [
              "<Figure size 432x288 with 1 Axes>"
            ]
          },
          "metadata": {
            "tags": [],
            "needs_background": "light"
          }
        },
        {
          "output_type": "stream",
          "text": [
            "precision : 0.7871468660365344\n",
            "recall : 0.7728877369840871\n",
            "f1 : 0.7622743798326319\n",
            "accuracy : 0.7803\n",
            "Confusion matrix: \n",
            "[[ 917    0   10    7    0   10   20    3   13    0]\n",
            " [   0 1096    8    3    0    1    3    0   24    0]\n",
            " [  24   78  775   20   31    0   45   18   41    0]\n",
            " [  20   25   38  837    4   11    1   29   37    8]\n",
            " [   4    4    5    0  814    0   26    1   19  109]\n",
            " [  47   21   35  250   17  242   67   54  119   40]\n",
            " [  31   27   44    1   19    0  823    1   12    0]\n",
            " [   4   28   24    2   22    2    3  865   45   33]\n",
            " [  12   47   35   64   27    6   26   18  727   12]\n",
            " [  14    5    8    7  177    6    2   60   23  707]]\n",
            "Some images with wrong predictions\n"
          ],
          "name": "stdout"
        },
        {
          "output_type": "display_data",
          "data": {
            "image/png": "[encoded data removed]",
            "text/plain": [
              "<Figure size 720x720 with 20 Axes>"
            ]
          },
          "metadata": {
            "tags": [],
            "needs_background": "light"
          }
        }
      ]
    },
    {
      "cell_type": "markdown",
      "metadata": {
        "id": "NQCkNdQ6gepl"
      },
      "source": [
        "#### Έτοιμο Multi-Layer Perceptron"
      ]
    },
    {
      "cell_type": "code",
      "metadata": {
        "colab": {
          "base_uri": "https://localhost:8080/",
          "height": 914
        },
        "id": "Ma4_mJWq0dDj",
        "outputId": "4c779132-82bb-4135-f4c2-38c5ebed8034"
      },
      "source": [
        "from sklearn.neural_network import MLPClassifier\r\n",
        "\r\n",
        "epochs = 25\r\n",
        "mlp = MLPClassifier(hidden_layer_sizes=(100, 200, 100), max_iter = epochs)\r\n",
        "\r\n",
        "mlp.fit(x_train,y_train)\r\n",
        "\r\n",
        "y_pred = mlp.predict(x_test)\r\n",
        "eval = Evaluate(y_test, y_pred, x_test)\r\n",
        "eval.get_evaluation_report()"
      ],
      "execution_count": 11,
      "outputs": [
        {
          "output_type": "stream",
          "text": [
            "/usr/local/lib/python3.6/dist-packages/sklearn/neural_network/_multilayer_perceptron.py:571: ConvergenceWarning: Stochastic Optimizer: Maximum iterations (25) reached and the optimization hasn't converged yet.\n",
            "  % self.max_iter, ConvergenceWarning)\n"
          ],
          "name": "stderr"
        },
        {
          "output_type": "stream",
          "text": [
            "precision : 0.9646006678240227\n",
            "recall : 0.9635197658176085\n",
            "f1 : 0.9638315805230194\n",
            "accuracy : 0.9642\n",
            "Confusion matrix: \n",
            "[[ 960    1    2    2    0    3    4    3    2    3]\n",
            " [   0 1123    4    2    0    1    3    1    1    0]\n",
            " [   2    2  996   14    2    0    2   11    3    0]\n",
            " [   0    0    2  995    0    1    0    6    4    2]\n",
            " [   0    0    3    0  945    0    1    0    1   32]\n",
            " [   3    0    1   25    2  845    7    1    4    4]\n",
            " [   9    3    4    1   13   12  911    2    3    0]\n",
            " [   0    3   11    6    2    0    0  994    1   11]\n",
            " [   4    2    4   23    2   11    4    8  902   14]\n",
            " [   1    3    0   14    9    1    1    7    2  971]]\n",
            "Some images with wrong predictions\n"
          ],
          "name": "stdout"
        },
        {
          "output_type": "display_data",
          "data": {
            "image/png": "[encoded data removed]",
            "text/plain": [
              "<Figure size 720x720 with 20 Axes>"
            ]
          },
          "metadata": {
            "tags": [],
            "needs_background": "light"
          }
        }
      ]
    },
    {
      "cell_type": "markdown",
      "metadata": {
        "id": "qMvIoS45gLSR"
      },
      "source": [
        "#### Σύγκριση υλοποιήσεων"
      ]
    },
    {
      "cell_type": "markdown",
      "metadata": {
        "id": "ADg6vq3DgcpC"
      },
      "source": [
        "##### Χρόνος"
      ]
    },
    {
      "cell_type": "code",
      "metadata": {
        "colab": {
          "base_uri": "https://localhost:8080/"
        },
        "id": "ZneYV4-2jet8",
        "outputId": "a3845d6d-f450-4b1e-f3e8-0f843f31df82"
      },
      "source": [
        "%%time\r\n",
        "network = MLP([100, 200, 100, 10], 28*28)\r\n",
        "\r\n",
        "train_log = []\r\n",
        "val_log = []\r\n",
        "\r\n",
        "#Αυτά πρέπει να τρέχουν αφού έχετε φτιάξει σωστά τον κώδικα της MLP\r\n",
        "for epoch in range(25):\r\n",
        "    network.fit(x_train,y_train)\r\n",
        "    \r\n",
        "    train_log.append(np.mean(network.predict(x_train)==y_train))\r\n",
        "    val_log.append(np.mean(network.predict(x_test)==y_test))\r\n",
        "    \r\n",
        "    clear_output()\r\n",
        "    print(\"Epoch\",epoch)\r\n",
        "\r\n",
        "y_pred = network.predict(x_test)"
      ],
      "execution_count": 20,
      "outputs": [
        {
          "output_type": "stream",
          "text": [
            "Epoch 24\n",
            "CPU times: user 52.2 s, sys: 12.9 s, total: 1min 5s\n",
            "Wall time: 33.5 s\n"
          ],
          "name": "stdout"
        }
      ]
    },
    {
      "cell_type": "code",
      "metadata": {
        "colab": {
          "base_uri": "https://localhost:8080/"
        },
        "id": "RYeQATMDjVWe",
        "outputId": "475da406-860c-498c-90fc-4d127b28a0d4"
      },
      "source": [
        "%%time\r\n",
        "epochs = 25\r\n",
        "mlp = MLPClassifier(hidden_layer_sizes=(100, 200, 100), max_iter = epochs)\r\n",
        "\r\n",
        "mlp.fit(x_train,y_train)\r\n",
        "\r\n",
        "y_pred = mlp.predict(x_test)"
      ],
      "execution_count": 21,
      "outputs": [
        {
          "output_type": "stream",
          "text": [
            "CPU times: user 44.1 s, sys: 16.7 s, total: 1min\n",
            "Wall time: 31 s\n"
          ],
          "name": "stdout"
        },
        {
          "output_type": "stream",
          "text": [
            "/usr/local/lib/python3.6/dist-packages/sklearn/neural_network/_multilayer_perceptron.py:571: ConvergenceWarning: Stochastic Optimizer: Maximum iterations (25) reached and the optimization hasn't converged yet.\n",
            "  % self.max_iter, ConvergenceWarning)\n"
          ],
          "name": "stderr"
        }
      ]
    },
    {
      "cell_type": "markdown",
      "metadata": {
        "id": "J7S6FaWlmD59"
      },
      "source": [
        "##### Απόδοση\r\n",
        "###### *βλ. δοκιμές έτοιμης και δικής υλοποίησης παραπάνω*"
      ]
    },
    {
      "cell_type": "markdown",
      "metadata": {
        "id": "1dQxzudTmnDQ"
      },
      "source": [
        "##### Σχολιασμός\r\n",
        "\r\n",
        "* Παρά τις όποιες βελτιστοποιήσεις έγιναν με χρήση διαφόρων μέσων, η ήδη υπάρχουσα υλοποίηση τρέχει αισθητά πιό γρήγορα απ'τη δική μας.\r\n",
        "* Μάλιστα όχι μόνο ολοκληρώνει γρηγορότερα, αλλά και πολύ καλύτερα αποτελέσματα.\r\n",
        "* Γενικότερα (λογικά λόγω της διάδοσης και της απόδοσής που έχει) είναι αρκετά καλύτερη η υπάρχουσα υλοποίηση.\r\n",
        "* Δοκιμάζοντας διάφορες τιμές για το learning rate (προφανώς με λίγο αυξημένο κίνδυνο για overfitting) παρατηρούμε ότι υπό κατάλληλες συνθήκες αυξάνονται οι μετρικές."
      ]
    },
    {
      "cell_type": "markdown",
      "metadata": {
        "id": "Ebzm8tXkquLi"
      },
      "source": [
        "### Αξιολόγηση-Συμπεράσματα\r\n",
        "---\r\n",
        "Για προβλήματα σχετικά απλά σε φύση, όπως αυτό η παραδοχή δεσμευμένης ανεξαρτησίας που κάναμε στην υλοποίηση του Naive Bayes είναι αρκετά κοντά στην πραγματικότητα ούτως ώστε η απόδοση να είναι ικανοποιητική, ειδικά κρίνοντας από το πόσο γρήγορα τρέχει σε σχέση με τις υπόλοιπες υλοποιήσεις.  \r\n",
        "\r\n",
        "Αντίθετα Multi-Layered Perceptrons είναι πολύ γενικότερα στη φύση τους και με καταλληλη δομή και χρόνο για training μπορούν να αποτελέσουν πολύ δυνατό εργαλείο για ταξινόμηση.\r\n",
        "\r\n",
        "Τέλος όσον αφορά τους KNN ταξινομητές σημαντικό ρόλο σε ειδικότερα προβλήματα θα παίζει ο ορισμός της απόστασης δύο αντικειμένων του προβλήματος, ενώ ταυτόχρονα έχει ιδιαίτερα απλή υλοποίηση."
      ]
    }
  ]
}